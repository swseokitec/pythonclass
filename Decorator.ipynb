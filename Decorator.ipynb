{
  "nbformat": 4,
  "nbformat_minor": 0,
  "metadata": {
    "colab": {
      "name": "Decorator.ipynb",
      "provenance": [],
      "collapsed_sections": [],
      "include_colab_link": true
    },
    "kernelspec": {
      "name": "python3",
      "display_name": "Python 3"
    },
    "language_info": {
      "name": "python"
    }
  },
  "cells": [
    {
      "cell_type": "markdown",
      "metadata": {
        "id": "view-in-github",
        "colab_type": "text"
      },
      "source": [
        "<a href=\"https://colab.research.google.com/github/swseokitec/pythonclass/blob/main/Decorator.ipynb\" target=\"_parent\"><img src=\"https://colab.research.google.com/assets/colab-badge.svg\" alt=\"Open In Colab\"/></a>"
      ]
    },
    {
      "cell_type": "markdown",
      "source": [
        "# Decorator"
      ],
      "metadata": {
        "id": "6iVX63qSaB-H"
      }
    },
    {
      "cell_type": "code",
      "execution_count": null,
      "metadata": {
        "id": "9zPu_glgAupb",
        "colab": {
          "base_uri": "https://localhost:8080/"
        },
        "outputId": "6f932f34-c334-4eae-8a58-929fed3240fc"
      },
      "outputs": [
        {
          "output_type": "stream",
          "name": "stdout",
          "text": [
            "Hi\n",
            "Bye\n"
          ]
        }
      ],
      "source": [
        "def outer_function(msg):\n",
        "    def inner_function():\n",
        "        print(msg)\n",
        "\n",
        "    return inner_function\n",
        "\n",
        "hi_func = outer_function('Hi')\n",
        "bye_func = outer_function('Bye')\n",
        "\n",
        "hi_func()\n",
        "bye_func()"
      ]
    },
    {
      "cell_type": "code",
      "source": [
        "def decorator_function(original_function):  # 1\n",
        "    def wrapper_function():  # 5\n",
        "        return original_function()  # 7\n",
        "\n",
        "    return wrapper_function  # 6\n",
        "\n",
        "\n",
        "def display():  # 2\n",
        "    print('display 함수가 실행됐습니다.')  # 8\n",
        "\n",
        "\n",
        "decorated_display = decorator_function(display)  # 3\n",
        "\n",
        "decorated_display()  # 4"
      ],
      "metadata": {
        "colab": {
          "base_uri": "https://localhost:8080/"
        },
        "id": "voZVuS1DBFfW",
        "outputId": "19a04eac-053d-499a-de91-3a604e39cd8d"
      },
      "execution_count": null,
      "outputs": [
        {
          "output_type": "stream",
          "name": "stdout",
          "text": [
            "display 함수가 실행됐습니다.\n"
          ]
        }
      ]
    },
    {
      "cell_type": "markdown",
      "source": [
        "위의 코드는 다음과 같은 내용입니다.</br>  \n",
        "* 데코레이터 함수인 decorator_function과 일반 함수인 display를 #1과 #2에서 각각 정의를 하였습니다.</br> \n",
        "* 그 다음에 #3에서 decorated_display라는 변수에 display 함수를 인자로 갖은 decorator_function을 실행한 리턴값을 할당하였습니다.</br> \n",
        "* 물론 이 리턴값은 wrapper_function이 되겠죠. 여기서 wrapper_function 함수는 아직 실행된게 아닙니다. decorated_display 변수 안에서 호출되기를 기다리는 겁니다. \n",
        "* 그리고 #4의 decorated_display()를 통해 wrapper_function을 호출하면 #5번에서 정의된  wrapper_function이 호출이 됩니다.</br> \n",
        "* 그러면 #7에서 original_function인 display 함수가 호출되어 #8의 print 함수가 호출되고 문자열이 출력되는 겁니다."
      ],
      "metadata": {
        "id": "Wrtxx1GJB8cX"
      }
    },
    {
      "cell_type": "code",
      "source": [
        "def decorator_function(original_function):\n",
        "    def wrapper_function():\n",
        "        print('{} 함수가 호출되기전 입니다.'.format(original_function.__name__))\n",
        "        return original_function()\n",
        "\n",
        "    return wrapper_function\n",
        "\n",
        "\n",
        "def display_1():\n",
        "    print('display_1 함수가 실행됐습니다.')\n",
        "\n",
        "\n",
        "def display_2():\n",
        "    print('display_2 함수가 실행됐습니다.')\n",
        "\n",
        "\n",
        "display1_name = decorator_function(display_1)  # 1\n",
        "display2_name = decorator_function(display_2)  # 2"
      ],
      "metadata": {
        "id": "wwuSlQI6B89V"
      },
      "execution_count": null,
      "outputs": []
    },
    {
      "cell_type": "code",
      "source": [
        "display1_name()\n",
        "print(\"*\" * 50)\n",
        "display2_name()"
      ],
      "metadata": {
        "colab": {
          "base_uri": "https://localhost:8080/"
        },
        "id": "rIHTaJJJDyeG",
        "outputId": "f37a20b3-a16b-4c7d-94f0-c9d384d088a4"
      },
      "execution_count": null,
      "outputs": [
        {
          "output_type": "stream",
          "name": "stdout",
          "text": [
            "display_1 함수가 호출되기전 입니다.\n",
            "display_1 함수가 실행됐습니다.\n",
            "**************************************************\n",
            "display_2 함수가 호출되기전 입니다.\n",
            "display_2 함수가 실행됐습니다.\n"
          ]
        }
      ]
    },
    {
      "cell_type": "code",
      "source": [
        "def decorator_function(original_function):\n",
        "    print(\"decorator_function func=\", original_function)\n",
        "    def wrapper_function(*args, **kwargs):\n",
        "        print('{} 함수가 호출되기전 입니다.'.format(original_function.__name__))\n",
        "        return original_function(*args, **kwargs)\n",
        "    return wrapper_function\n",
        "\n",
        "\n",
        "@decorator_function\n",
        "def display():\n",
        "    print('display 함수가 실행됐습니다.')\n",
        "\n",
        "\n",
        "@decorator_function\n",
        "def display_info(name, age):\n",
        "    print('display_info({}, {}) 함수가 실행됐습니다.'.format(name, age))"
      ],
      "metadata": {
        "id": "niBvz26ICgGF",
        "colab": {
          "base_uri": "https://localhost:8080/"
        },
        "outputId": "ce287c23-1253-4701-f6f3-446d85b72084"
      },
      "execution_count": null,
      "outputs": [
        {
          "output_type": "stream",
          "name": "stdout",
          "text": [
            "decorator_function func= <function display at 0x7f47a8e90b00>\n",
            "decorator_function func= <function display_info at 0x7f47a8e90b90>\n"
          ]
        }
      ]
    },
    {
      "cell_type": "code",
      "source": [
        "print(display) # display is wrapper_function\n",
        "print(display_info) # display_info is wrapper_function\n",
        "\n",
        "display()\n",
        "print()\n",
        "display_info('John', 25)"
      ],
      "metadata": {
        "colab": {
          "base_uri": "https://localhost:8080/"
        },
        "id": "lz4agaepEIQO",
        "outputId": "4a5f23b3-2e2b-49d4-8746-4a90e98b0e0b"
      },
      "execution_count": null,
      "outputs": [
        {
          "output_type": "stream",
          "name": "stdout",
          "text": [
            "<function decorator_function.<locals>.wrapper_function at 0x7f47a8e903b0>\n",
            "<function decorator_function.<locals>.wrapper_function at 0x7f47a8e803b0>\n",
            "display 함수가 호출되기전 입니다.\n",
            "display 함수가 실행됐습니다.\n",
            "\n",
            "display_info 함수가 호출되기전 입니다.\n",
            "display_info(John, 25) 함수가 실행됐습니다.\n"
          ]
        }
      ]
    },
    {
      "cell_type": "code",
      "source": [
        "! date"
      ],
      "metadata": {
        "colab": {
          "base_uri": "https://localhost:8080/"
        },
        "id": "t8uPXJbEJQVV",
        "outputId": "48ec48fa-8a65-41cb-c2e7-34685967c1b0"
      },
      "execution_count": null,
      "outputs": [
        {
          "output_type": "stream",
          "name": "stdout",
          "text": [
            "Wed Feb 23 05:58:02 UTC 2022\n"
          ]
        }
      ]
    },
    {
      "cell_type": "code",
      "source": [
        "! date; time sleep 1; date"
      ],
      "metadata": {
        "colab": {
          "base_uri": "https://localhost:8080/"
        },
        "id": "JIg8xnZ-KHET",
        "outputId": "f4552bc4-6255-49d3-9d1f-ed835ae3db01"
      },
      "execution_count": null,
      "outputs": [
        {
          "output_type": "stream",
          "name": "stdout",
          "text": [
            "Wed Feb 23 05:58:59 UTC 2022\n",
            "\n",
            "real\t0m1.020s\n",
            "user\t0m0.003s\n",
            "sys\t0m0.002s\n",
            "Wed Feb 23 05:59:00 UTC 2022\n"
          ]
        }
      ]
    },
    {
      "cell_type": "code",
      "source": [
        "import datetime\n",
        "import time\n",
        "import logging\n",
        "\n",
        "def my_logger(original_function):   \n",
        "  filename = '{}.log'.format(original_function.__name__)\n",
        "  logging.basicConfig(handlers=[logging.FileHandler(filename, 'a', 'utf-8')],\n",
        "                      level=logging.INFO)\n",
        "  print(\"called my_logger\")\n",
        "  def wrapper(*args, **kwargs):\n",
        "    print(\"called wrapper\")\n",
        "    timestamp = datetime.datetime.now().strftime('%Y-%m-%d %H:%M')\n",
        "    logging.info('[{}] 실행결과 args - {}, kwargs - {}'.format(timestamp, args, kwargs))\n",
        "    return original_function(*args, **kwargs)\n",
        "\n",
        "  return wrapper\n",
        "\n",
        "\n",
        "@my_logger\n",
        "def display_info(name, age):\n",
        "  print(\"called display_info\")\n",
        "  time.sleep(1)\n",
        "  print('display_info({}, {}) 함수가 실행됐습니다.'.format(name, age))\n",
        "\n",
        "print(\"*\" * 60)\n",
        "print(\"call display_info!!!\")\n",
        "display_info('John', 25)"
      ],
      "metadata": {
        "colab": {
          "base_uri": "https://localhost:8080/"
        },
        "id": "muvqMfiUKU8j",
        "outputId": "61f0eb01-ae65-48af-bef3-f4c7abdadc39"
      },
      "execution_count": null,
      "outputs": [
        {
          "output_type": "stream",
          "name": "stdout",
          "text": [
            "called my_logger\n",
            "************************************************************\n",
            "call display_info!!!\n",
            "called wrapper\n",
            "called display_info\n",
            "display_info(John, 25) 함수가 실행됐습니다.\n"
          ]
        }
      ]
    },
    {
      "cell_type": "code",
      "source": [
        "! ls -al"
      ],
      "metadata": {
        "colab": {
          "base_uri": "https://localhost:8080/"
        },
        "id": "dyIO0dOVNOn-",
        "outputId": "ea18139d-2b1e-4aea-d552-556770f51cfe"
      },
      "execution_count": null,
      "outputs": [
        {
          "output_type": "stream",
          "name": "stdout",
          "text": [
            "total 20\n",
            "drwxr-xr-x 1 root root 4096 Feb 23 06:05 .\n",
            "drwxr-xr-x 1 root root 4096 Feb 23 05:17 ..\n",
            "drwxr-xr-x 4 root root 4096 Feb 18 14:33 .config\n",
            "-rw-r--r-- 1 root root   75 Feb 23 06:05 display_info.log\n",
            "drwxr-xr-x 1 root root 4096 Feb 18 14:33 sample_data\n"
          ]
        }
      ]
    },
    {
      "cell_type": "code",
      "source": [
        "! cat ./display_info.log"
      ],
      "metadata": {
        "colab": {
          "base_uri": "https://localhost:8080/"
        },
        "id": "_CP7OYc5NQek",
        "outputId": "0d46990a-dcbe-4842-8152-57e29dbbfe0d"
      },
      "execution_count": null,
      "outputs": [
        {
          "output_type": "stream",
          "name": "stdout",
          "text": [
            "INFO:root:[2022-02-23 06:05] 실행결과 args - ('John', 25), kwargs - {}\n"
          ]
        }
      ]
    },
    {
      "cell_type": "code",
      "source": [
        "import datetime\n",
        "import time\n",
        "\n",
        "\n",
        "def my_logger(original_function):\n",
        "    import logging\n",
        "    filename = '{}.log'.format(original_function.__name__)\n",
        "    logging.basicConfig(handlers=[logging.FileHandler(filename, 'a', 'utf-8')],\n",
        "                        level=logging.INFO)\n",
        "\n",
        "    def wrapper(*args, **kwargs):\n",
        "        timestamp = datetime.datetime.now().strftime('%Y-%m-%d %H:%M')\n",
        "        logging.info(\n",
        "            '[{}] 실행결과 args - {}, kwargs - {}'.format(timestamp, args, kwargs))\n",
        "        return original_function(*args, **kwargs)\n",
        "\n",
        "    return wrapper\n",
        "\n",
        "\n",
        "def my_timer(original_function):  # 1\n",
        "    import time\n",
        "\n",
        "    def wrapper(*args, **kwargs):\n",
        "        t1 = time.time()\n",
        "        result = original_function(*args, **kwargs)\n",
        "        t2 = time.time() - t1\n",
        "        print('{} 함수가 실행된 총 시간: {} 초'.format(original_function.__name__, t2))\n",
        "        return result\n",
        "\n",
        "    return wrapper\n",
        "\n",
        "\n",
        "@my_timer  # 2\n",
        "def display_info(name, age):\n",
        "    time.sleep(1)\n",
        "    print('display_info({}, {}) 함수가 실행됐습니다.'.format(name, age))\n",
        "\n",
        "\n"
      ],
      "metadata": {
        "id": "PuCtajnjNUiD"
      },
      "execution_count": null,
      "outputs": []
    },
    {
      "cell_type": "code",
      "source": [
        "display_info('John', 25)"
      ],
      "metadata": {
        "colab": {
          "base_uri": "https://localhost:8080/"
        },
        "id": "uFqgifm2NhMN",
        "outputId": "46172066-4a5b-4a7a-8842-5f1ca1240229"
      },
      "execution_count": null,
      "outputs": [
        {
          "output_type": "stream",
          "name": "stdout",
          "text": [
            "display_info(John, 25) 함수가 실행됐습니다.\n",
            "display_info 함수가 실행된 총 시간: 1.001967191696167 초\n"
          ]
        }
      ]
    },
    {
      "cell_type": "code",
      "source": [
        "import datetime\n",
        "import time\n",
        "import logging\n",
        "\n",
        "def my_logger(original_function):\n",
        "    \n",
        "    filename = '{}.log'.format(original_function.__name__)\n",
        "    logging.basicConfig(handlers=[logging.FileHandler(filename, 'a', 'utf-8')],\n",
        "                        level=logging.INFO)\n",
        "\n",
        "    def wrapper(*args, **kwargs):\n",
        "        timestamp = datetime.datetime.now().strftime('%Y-%m-%d %H:%M')\n",
        "        logging.info(\n",
        "            '[{}] 실행결과 args - {}, kwargs - {}'.format(timestamp, args, kwargs))\n",
        "        return original_function(*args, **kwargs)\n",
        "\n",
        "    return wrapper\n",
        "\n",
        "\n",
        "def my_timer(original_function):\n",
        "    import time\n",
        "\n",
        "    def wrapper(*args, **kwargs):\n",
        "        t1 = time.time()\n",
        "        result = original_function(*args, **kwargs)\n",
        "        t2 = time.time() - t1\n",
        "        print('{} 함수가 실행된 총 시간: {} 초'.format(original_function.__name__, t2))\n",
        "        return result\n",
        "\n",
        "    return wrapper\n",
        "\n",
        "\n",
        "@my_logger  # 1\n",
        "@my_timer   # 2\n",
        "def display_info(name, age):\n",
        "    time.sleep(1)\n",
        "    print('display_info({}, {}) 함수가 실행됐습니다.'.format(name, age))\n",
        "\n",
        "\n"
      ],
      "metadata": {
        "id": "Klxo2EMPNsmt"
      },
      "execution_count": null,
      "outputs": []
    },
    {
      "cell_type": "code",
      "source": [
        "display_info('John', 25)"
      ],
      "metadata": {
        "colab": {
          "base_uri": "https://localhost:8080/"
        },
        "id": "Ey1T9B4pNxYU",
        "outputId": "bb1bb3dc-24dc-4f14-cfeb-f62e8e45cd02"
      },
      "execution_count": null,
      "outputs": [
        {
          "output_type": "stream",
          "name": "stdout",
          "text": [
            "display_info(John, 25) 함수가 실행됐습니다.\n",
            "display_info 함수가 실행된 총 시간: 1.001335859298706 초\n"
          ]
        }
      ]
    },
    {
      "cell_type": "code",
      "source": [
        "! ls -al"
      ],
      "metadata": {
        "colab": {
          "base_uri": "https://localhost:8080/"
        },
        "id": "b6yB-9WRNx-y",
        "outputId": "46ad1084-78e4-4cce-d469-e7100888ce7c"
      },
      "execution_count": null,
      "outputs": [
        {
          "output_type": "stream",
          "name": "stdout",
          "text": [
            "total 20\n",
            "drwxr-xr-x 1 root root 4096 Feb 23 06:13 .\n",
            "drwxr-xr-x 1 root root 4096 Feb 23 05:17 ..\n",
            "drwxr-xr-x 4 root root 4096 Feb 18 14:33 .config\n",
            "-rw-r--r-- 1 root root  150 Feb 23 06:14 display_info.log\n",
            "drwxr-xr-x 1 root root 4096 Feb 18 14:33 sample_data\n",
            "-rw-r--r-- 1 root root    0 Feb 23 06:13 wrapper.log\n"
          ]
        }
      ]
    },
    {
      "cell_type": "code",
      "source": [
        "class DecoratorClass:  # 1\n",
        "    def __init__(self, original_function):\n",
        "        print('Init:{} 함수.'.format(original_function))\n",
        "        self.original_function = original_function\n",
        "\n",
        "    def __call__(self, *args, **kwargs):\n",
        "        print('{} 함수가 호출되기전 입니다.'.format(self.original_function.__name__))\n",
        "        return self.original_function(*args, **kwargs)\n",
        "\n",
        "\n",
        "@DecoratorClass  # 2\n",
        "def display():\n",
        "    print('display 함수가 실행됐습니다.')\n",
        "\n",
        "\n",
        "@DecoratorClass  # 3\n",
        "def display_info(name, age):\n",
        "    print('display_info({}, {}) 함수가 실행됐습니다.'.format(name, age))"
      ],
      "metadata": {
        "id": "CnP5eJKnN4Sz",
        "colab": {
          "base_uri": "https://localhost:8080/"
        },
        "outputId": "db0adbae-8061-48f0-90b8-3d5300d32214"
      },
      "execution_count": null,
      "outputs": [
        {
          "output_type": "stream",
          "name": "stdout",
          "text": [
            "Init:<function display at 0x7f47a8e1cd40> 함수.\n",
            "Init:<function display_info at 0x7f47a8e2c050> 함수.\n"
          ]
        }
      ]
    },
    {
      "cell_type": "code",
      "source": [
        "print(display)\n",
        "print(display_info)\n",
        "\n",
        "display()   # diplay is DecoratorClass, 클래스 객체를 함수 호출방식[__call__를 정의했기 때문에]을 호출할 수 있다\n",
        "print()\n",
        "display_info('John', 25)"
      ],
      "metadata": {
        "colab": {
          "base_uri": "https://localhost:8080/"
        },
        "id": "oKCZnijmG7hW",
        "outputId": "ab04db1d-72af-4981-d97a-91a5b3f4df91"
      },
      "execution_count": null,
      "outputs": [
        {
          "output_type": "stream",
          "name": "stdout",
          "text": [
            "<__main__.DecoratorClass object at 0x7f47a8e9e4d0>\n",
            "<__main__.DecoratorClass object at 0x7f47a8e9e3d0>\n",
            "display 함수가 호출되기전 입니다.\n",
            "display 함수가 실행됐습니다.\n",
            "\n",
            "display_info 함수가 호출되기전 입니다.\n",
            "display_info(John, 25) 함수가 실행됐습니다.\n"
          ]
        }
      ]
    },
    {
      "cell_type": "code",
      "source": [
        ""
      ],
      "metadata": {
        "id": "RQE6n0N9G8Dc"
      },
      "execution_count": null,
      "outputs": []
    }
  ]
}